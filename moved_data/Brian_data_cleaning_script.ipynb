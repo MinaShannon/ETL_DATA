{
 "cells": [
  {
   "cell_type": "code",
   "execution_count": 1,
   "metadata": {},
   "outputs": [],
   "source": [
    "import numpy as np\n",
    "import pandas as pd"
   ]
  },
  {
   "cell_type": "code",
   "execution_count": 51,
   "metadata": {},
   "outputs": [],
   "source": [
    "years=1984\n",
    "year_list=[]\n",
    "data=[]\n",
    "csv=[]\n",
    "sub_data=[]\n",
    "alldata={}\n",
    "columns=pd.DataFrame()\n",
    "for i in range(0,34):\n",
    "    data.append(f\"./{years} Dataset.csv\")\n",
    "    year_list.append(years)\n",
    "    #sub_data=list(pd.read_csv(data[i]))\n",
    "    #df = pd.DataFrame(sub_data, columns=[f'{years}'])\n",
    "    #df.to_csv(f'columns_{years}.csv', index=False)\n",
    "    years=years+1\n",
    "\n",
    "\n",
    "csv1=pd.read_csv((data[9]))\n",
    "csv2=pd.read_csv((data[10]))\n",
    "csv3=pd.read_csv((data[11]))\n",
    "csv4=pd.read_csv((data[12]))\n",
    "csv5=pd.read_csv((data[13]))\n",
    "csv6=pd.read_csv((data[14]))\n",
    "csv7=pd.read_csv((data[15]))\n",
    "csv8=pd.read_csv((data[16]))\n",
    "csv9=pd.read_csv((data[17]))\n",
    "csv10=pd.read_csv((data[18]))\n",
    "csv11=pd.read_csv((data[19]))\n",
    "csv12=pd.read_csv((data[20]))\n",
    "csv13=pd.read_csv((data[21]))\n",
    "csv14=pd.read_csv((data[22]))\n",
    "csv15=pd.read_csv((data[23]))\n",
    "csv16=pd.read_csv((data[24]))\n",
    "csv17=pd.read_csv((data[25]))\n",
    "csv18=pd.read_csv((data[26]))\n",
    "csv19=pd.read_csv((data[27]))\n",
    "csv20=pd.read_csv((data[28]))\n",
    "csv21=pd.read_csv((data[29]))\n",
    "csv22=pd.read_csv((data[30]))\n",
    "csv23=pd.read_csv((data[31]))\n",
    "csv24=pd.read_csv((data[32]))\n",
    "csv25=pd.read_csv((data[33]))\n",
    "data_1993=pd.DataFrame(csv1)\n",
    "data_1994=pd.DataFrame(csv2)\n",
    "data_1995=pd.DataFrame(csv3)\n",
    "data_1996=pd.DataFrame(csv4)\n",
    "data_1997=pd.DataFrame(csv5)\n",
    "data_1998=pd.DataFrame(csv6)\n",
    "data_1999=pd.DataFrame(csv7)\n",
    "data_2000=pd.DataFrame(csv8)\n",
    "data_2001=pd.DataFrame(csv9)\n",
    "data_2002=pd.DataFrame(csv10)\n",
    "data_2003=pd.DataFrame(csv11)\n",
    "data_2004=pd.DataFrame(csv12)\n",
    "data_2005=pd.DataFrame(csv13)\n",
    "data_2006=pd.DataFrame(csv14)\n",
    "data_2007=pd.DataFrame(csv15)\n",
    "data_2008=pd.DataFrame(csv16)\n",
    "data_2009=pd.DataFrame(csv17)\n",
    "data_2010=pd.DataFrame(csv18)\n",
    "data_2011=pd.DataFrame(csv19)\n",
    "data_2012=pd.DataFrame(csv20)\n",
    "data_2013=pd.DataFrame(csv21)\n",
    "data_2014=pd.DataFrame(csv22)\n",
    "data_2015=pd.DataFrame(csv23)\n",
    "data_2016=pd.DataFrame(csv24)\n",
    "data_2017=pd.DataFrame(csv25)"
   ]
  },
  {
   "cell_type": "code",
   "execution_count": 53,
   "metadata": {},
   "outputs": [],
   "source": [
    "bins = [24, 35, 45, 55, 65, np.inf]\n",
    "names = [1, 2, 3, 4, 5]\n",
    "data_1993['age'] = pd.cut(data_1993['age'], bins, labels=names)\n",
    "data_1993=data_1993.replace(to_replace=[77,99],value=\"\")\n",
    "data_1993=data_1993.replace(to_replace=[88],value=0)\n",
    "eddummies1993=pd.get_dummies(data_1993.educa)\n",
    "emp_stat1993=pd.get_dummies(data_1993.employ)\n",
    "marital_1993=pd.get_dummies(data_1993.marital)\n",
    "sex_1993=pd.get_dummies(data_1993.sex)\n",
    "gen_health1993=pd.get_dummies(data_1993.genhlth)\n",
    "diabetes_1993=pd.get_dummies(data_1993.diabetes)"
   ]
  },
  {
   "cell_type": "code",
   "execution_count": 55,
   "metadata": {},
   "outputs": [
    {
     "data": {
      "text/plain": [
       "0           \n",
       "1          0\n",
       "2          0\n",
       "3          0\n",
       "4          0\n",
       "5          0\n",
       "6         30\n",
       "7          0\n",
       "8          0\n",
       "9          0\n",
       "10         0\n",
       "11         2\n",
       "12        15\n",
       "13         0\n",
       "14         0\n",
       "15         0\n",
       "16         0\n",
       "17         0\n",
       "18         0\n",
       "19         0\n",
       "20         0\n",
       "21         0\n",
       "22         0\n",
       "23         0\n",
       "24         2\n",
       "25         0\n",
       "26         0\n",
       "27         1\n",
       "28         0\n",
       "29         1\n",
       "          ..\n",
       "102233     0\n",
       "102234     0\n",
       "102235     0\n",
       "102236     9\n",
       "102237     2\n",
       "102238     2\n",
       "102239     0\n",
       "102240    15\n",
       "102241     0\n",
       "102242     0\n",
       "102243     0\n",
       "102244     2\n",
       "102245     0\n",
       "102246     0\n",
       "102247     3\n",
       "102248     2\n",
       "102249     3\n",
       "102250     0\n",
       "102251     0\n",
       "102252     0\n",
       "102253     0\n",
       "102254     8\n",
       "102255     0\n",
       "102256     0\n",
       "102257     0\n",
       "102258     0\n",
       "102259     0\n",
       "102260     2\n",
       "102261     0\n",
       "102262     0\n",
       "Name: menthlth, Length: 102263, dtype: object"
      ]
     },
     "execution_count": 55,
     "metadata": {},
     "output_type": "execute_result"
    }
   ],
   "source": [
    "data_1993.menthlth"
   ]
  },
  {
   "cell_type": "code",
   "execution_count": null,
   "metadata": {},
   "outputs": [],
   "source": [
    "_1993={\n",
    "    \"state\":data_1993._state,\n",
    "    \"year\":data_1993.iyear,\n",
    "    \"mental_health\":data_1993.menthlth,\n",
    "    \"sex\":data_1993.sex,\n",
    "    \"education\":data_1993.educa,\n",
    "    \"employment\":data_1993.employ,\n",
    "    \"marital_status\":data_1993.marital,\n",
    "    \"gen_health\":data_1993.genhlth,\n",
    "    \"diabetes\":data_1993.diabetes,\n",
    "    \"age\":data_1993.age\n",
    "}"
   ]
  },
  {
   "cell_type": "code",
   "execution_count": null,
   "metadata": {},
   "outputs": [],
   "source": [
    "_1994={\n",
    "    \"state\":data_1994._state,\n",
    "    \"year\":data_1994.iyear,\n",
    "    \"mental_health\":data_1994.menthlth,\n",
    "    \"sex\":data_1994.sex,\n",
    "    \"education\":data_1994.educa,\n",
    "    \"employment\":data_1994.employ,\n",
    "    \"marital_status\":data_1994.marital,\n",
    "    \"gen_health\":data_1994.genhlth,\n",
    "    \"diabetes\":data_1994.diabetes,\n",
    "    \"age\":data_1994.age\n",
    "}"
   ]
  },
  {
   "cell_type": "code",
   "execution_count": null,
   "metadata": {},
   "outputs": [],
   "source": [
    "_1995={\n",
    "    \"state\":data_1995._state,\n",
    "    \"year\":data_1995.iyear,\n",
    "    \"mental_health\":data_1995.menthlth,\n",
    "    \"sex\":data_1995.sex,\n",
    "    \"education\":data_1995.educa,\n",
    "    \"employment\":data_1995.employ,\n",
    "    \"marital_status\":data_1995.marital,\n",
    "    \"gen_health\":data_1995.genhlth,\n",
    "    \"diabetes\":data_1995.diabetes,\n",
    "    \"age\":data_1995.age\n",
    "}"
   ]
  },
  {
   "cell_type": "code",
   "execution_count": null,
   "metadata": {},
   "outputs": [],
   "source": [
    "_1996={\n",
    "    \"state\":data_1996._state,\n",
    "    \"year\":data_1996.iyear,\n",
    "    \"mental_health\":data_1996.menthlth,\n",
    "    \"sex\":data_1996.sex,\n",
    "    \"education\":data_1996.educa,\n",
    "    \"employment\":data_1996.employ,\n",
    "    \"marital_status\":data_1996.marital,\n",
    "    \"gen_health\":data_1996.genhlth,\n",
    "    \"diabetes\":data_1996.diabetes,\n",
    "    \"age\":data_1996.age\n",
    "}"
   ]
  },
  {
   "cell_type": "code",
   "execution_count": null,
   "metadata": {},
   "outputs": [],
   "source": [
    "_1997={\n",
    "    \"state\":data_1997._state,\n",
    "    \"year\":data_1997.iyear,\n",
    "    \"mental_health\":data_1997.menthlth,\n",
    "    \"sex\":data_1997.sex,\n",
    "    \"education\":data_1997.educa,\n",
    "    \"employment\":data_1997.employ,\n",
    "    \"marital_status\":data_1997.marital,\n",
    "    \"gen_health\":data_1997.genhlth,\n",
    "    \"diabetes\":data_1997.diabetes,\n",
    "    \"age\":data_1997.age\n",
    "}"
   ]
  },
  {
   "cell_type": "code",
   "execution_count": null,
   "metadata": {},
   "outputs": [],
   "source": [
    "_1998={\n",
    "    \"state\":data_1998._state,\n",
    "    \"year\":data_1998.iyear,\n",
    "    \"mental_health\":data_1998.menthlth,\n",
    "    \"sex\":data_1998.sex,\n",
    "    \"education\":data_1998.educa,\n",
    "    \"employment\":data_1998.employ,\n",
    "    \"marital_status\":data_1998.marital,\n",
    "    \"gen_health\":data_1998.genhlth,\n",
    "    \"diabetes\":data_1998.diabetes,\n",
    "    \"age\":data_1998.age\n",
    "}"
   ]
  },
  {
   "cell_type": "code",
   "execution_count": null,
   "metadata": {},
   "outputs": [],
   "source": [
    "_1999={\n",
    "    \"state\":data_1999._state,\n",
    "    \"year\":data_1999.iyear,\n",
    "    \"mental_health\":data_1999.menthlth,\n",
    "    \"sex\":data_1999.sex,\n",
    "    \"education\":data_1999.educa,\n",
    "    \"employment\":data_1999.employ,\n",
    "    \"marital_status\":data_1999.marital,\n",
    "    \"gen_health\":data_1999.genhlth,\n",
    "    \"diabetes\":data_1999.diabetes,\n",
    "    \"age\":data_1999.age\n",
    "}"
   ]
  },
  {
   "cell_type": "code",
   "execution_count": null,
   "metadata": {},
   "outputs": [],
   "source": [
    "_2000={\n",
    "    \"state\":data_2000._state,\n",
    "    \"year\":data_2000.iyear,\n",
    "    \"mental_health\":data_2000.menthlth,\n",
    "    \"sex\":data_2000.sex,\n",
    "    \"education\":data_2000.educa,\n",
    "    \"employment\":data_2000.employ,\n",
    "    \"marital_status\":data_2000.marital,\n",
    "    \"gen_health\":data_2000.genhlth,\n",
    "    \"diabetes\":data_2000.diabetes,\n",
    "    \"age\":data_2000.age\n",
    "}"
   ]
  },
  {
   "cell_type": "code",
   "execution_count": null,
   "metadata": {},
   "outputs": [],
   "source": [
    "_2001={\n",
    "    \"state\":data_2001._state,\n",
    "    \"year\":data_2001.iyear,\n",
    "    \"mental_health\":data_2001.menthlth,\n",
    "    \"sex\":data_2001.sex,\n",
    "    \"education\":data_2001.educa,\n",
    "    \"employment\":data_2001.employ,\n",
    "    \"marital_status\":data_2001.marital,\n",
    "    \"gen_health\":data_2001.genhlth,\n",
    "    \"diabetes\":data_2001.diabetes,\n",
    "    \"age\":data_2001age\n",
    "}"
   ]
  },
  {
   "cell_type": "code",
   "execution_count": null,
   "metadata": {},
   "outputs": [],
   "source": [
    "_2002={\n",
    "    \"state\":data_2002._state,\n",
    "    \"year\":data_2002.iyear,\n",
    "    \"mental_health\":data_2002.menthlth,\n",
    "    \"sex\":data_2002.sex,\n",
    "    \"education\":data_2002.educa,\n",
    "    \"employment\":data_2002.employ,\n",
    "    \"marital_status\":data_2002.marital,\n",
    "    \"gen_health\":data_2002.genhlth,\n",
    "    \"diabetes\":data_2002.diabetes,\n",
    "    \"age\":data_2002.age\n",
    "}"
   ]
  },
  {
   "cell_type": "code",
   "execution_count": null,
   "metadata": {},
   "outputs": [],
   "source": [
    "_2003={\n",
    "    \"state\":data_2003._state,\n",
    "    \"year\":data_2003.iyear,\n",
    "    \"mental_health\":data_2003.menthlth,\n",
    "    \"sex\":data_2003.sex,\n",
    "    \"education\":data_2003.educa,\n",
    "    \"employment\":data_2003.employ,\n",
    "    \"marital_status\":data_2003.marital,\n",
    "    \"gen_health\":data_2003.genhlth,\n",
    "    \"diabetes\":data_2003.diabetes,\n",
    "    \"age\":data_2003.age\n",
    "}"
   ]
  },
  {
   "cell_type": "code",
   "execution_count": null,
   "metadata": {},
   "outputs": [],
   "source": [
    "_2004={\n",
    "    \"state\":data_2004._state,\n",
    "    \"year\":data_2004.iyear,\n",
    "    \"mental_health\":data_2004.menthlth,\n",
    "    \"sex\":data_2004.sex,\n",
    "    \"education\":data_2004.educa,\n",
    "    \"employment\":data_2004.employ,\n",
    "    \"marital_status\":data_2004.marital,\n",
    "    \"gen_health\":data_2004.genhlth,\n",
    "    \"diabetes\":data_2004.diabetes,\n",
    "    \"age\":data_2004.age\n",
    "}"
   ]
  },
  {
   "cell_type": "code",
   "execution_count": null,
   "metadata": {},
   "outputs": [],
   "source": [
    "_2005={\n",
    "    \"state\":data_2005._state,\n",
    "    \"year\":data_2005.iyear,\n",
    "    \"mental_health\":data_2005.menthlth,\n",
    "    \"sex\":data_2005.sex,\n",
    "    \"education\":data_2005.educa,\n",
    "    \"employment\":data_2005.employ,\n",
    "    \"marital_status\":data_2005.marital,\n",
    "    \"gen_health\":data_2005.genhlth,\n",
    "    \"diabetes\":data_2005.diabetes,\n",
    "    \"age\":data_2005.age\n",
    "}"
   ]
  },
  {
   "cell_type": "code",
   "execution_count": null,
   "metadata": {},
   "outputs": [],
   "source": [
    "_2006={\n",
    "    \"state\":data_2006._state,\n",
    "    \"year\":data_2006.iyear,\n",
    "    \"mental_health\":data_2006.menthlth,\n",
    "    \"sex\":data_2006.sex,\n",
    "    \"education\":data_2006.educa,\n",
    "    \"employment\":data_2006.employ,\n",
    "    \"marital_status\":data_2006.marital,\n",
    "    \"gen_health\":data_2006.genhlth,\n",
    "    \"diabetes\":data_2006.diabetes,\n",
    "    \"age\":data_2006.age\n",
    "}"
   ]
  },
  {
   "cell_type": "code",
   "execution_count": null,
   "metadata": {},
   "outputs": [],
   "source": [
    "_2007={\n",
    "    \"state\":data_2007._state,\n",
    "    \"year\":data_2007.iyear,\n",
    "    \"mental_health\":data_2007.menthlth,\n",
    "    \"sex\":data_2007.sex,\n",
    "    \"education\":data_2007.educa,\n",
    "    \"employment\":data_2007.employ,\n",
    "    \"marital_status\":data_2007.marital,\n",
    "    \"gen_health\":data_2007.genhlth,\n",
    "    \"diabetes\":data_2007.diabetes,\n",
    "    \"age\":data_2007.age\n",
    "}"
   ]
  },
  {
   "cell_type": "code",
   "execution_count": null,
   "metadata": {},
   "outputs": [],
   "source": [
    "_2008={\n",
    "    \"state\":data_2008._state,\n",
    "    \"year\":data_2008.iyear,\n",
    "    \"mental_health\":data_2008.menthlth,\n",
    "    \"sex\":data_2008.sex,\n",
    "    \"education\":data_2008.educa,\n",
    "    \"employment\":data_2008.employ,\n",
    "    \"marital_status\":data_2008.marital,\n",
    "    \"gen_health\":data_2008.genhlth,\n",
    "    \"diabetes\":data_2008.diabetes,\n",
    "    \"age\":data_2008.age\n",
    "}"
   ]
  },
  {
   "cell_type": "code",
   "execution_count": null,
   "metadata": {},
   "outputs": [],
   "source": [
    "_2009={\n",
    "    \"state\":data_2009._state,\n",
    "    \"year\":data_2009.iyear,\n",
    "    \"mental_health\":data_2009.menthlth,\n",
    "    \"sex\":data_2009.sex,\n",
    "    \"education\":data_2009.educa,\n",
    "    \"employment\":data_2009.employ,\n",
    "    \"marital_status\":data_2009.marital,\n",
    "    \"gen_health\":data_2009.genhlth,\n",
    "    \"diabetes\":data_2009.diabetes,\n",
    "    \"age\":data_2009.age\n",
    "}"
   ]
  },
  {
   "cell_type": "code",
   "execution_count": null,
   "metadata": {},
   "outputs": [],
   "source": [
    "_2010={\n",
    "    \"state\":data_2010._state,\n",
    "    \"year\":data_2010.iyear,\n",
    "    \"mental_health\":data_2010.menthlth,\n",
    "    \"sex\":data_2010.sex,\n",
    "    \"education\":data_2010.educa,\n",
    "    \"employment\":data_2010.employ,\n",
    "    \"marital_status\":data_2010.marital,\n",
    "    \"gen_health\":data_2010.genhlth,\n",
    "    \"diabetes\":data_2010.diabetes,\n",
    "    \"age\":data_2010.age\n",
    "}"
   ]
  },
  {
   "cell_type": "code",
   "execution_count": null,
   "metadata": {},
   "outputs": [],
   "source": [
    "_2011={\n",
    "    \"state\":data_2011._state,\n",
    "    \"year\":data_2011.iyear,\n",
    "    \"mental_health\":data_2011.menthlth,\n",
    "    \"sex\":data_2011.sex,\n",
    "    \"education\":data_2011.educa,\n",
    "    \"employment\":data_2011.employ,\n",
    "    \"marital_status\":data_2011.marital,\n",
    "    \"gen_health\":data_2011.genhlth,\n",
    "    \"diabetes\":data_2011.diabetes,\n",
    "    \"age\":data_2011.age\n",
    "}"
   ]
  },
  {
   "cell_type": "code",
   "execution_count": null,
   "metadata": {},
   "outputs": [],
   "source": [
    "_2012={\n",
    "    \"state\":data_2012._state,\n",
    "    \"year\":data_2012.iyear,\n",
    "    \"mental_health\":data_2012.menthlth,\n",
    "    \"sex\":data_2012.sex,\n",
    "    \"education\":data_2012.educa,\n",
    "    \"employment\":data_2012.employ,\n",
    "    \"marital_status\":data_2012.marital,\n",
    "    \"gen_health\":data_2012.genhlth,\n",
    "    \"diabetes\":data_2012.diabetes,\n",
    "    \"age\":data_2012.age\n",
    "}"
   ]
  },
  {
   "cell_type": "code",
   "execution_count": null,
   "metadata": {},
   "outputs": [],
   "source": [
    "_2013={\n",
    "    \"state\":data_2013._state,\n",
    "    \"year\":data_2013.iyear,\n",
    "    \"mental_health\":data_2013.menthlth,\n",
    "    \"sex\":data_2013.sex,\n",
    "    \"education\":data_2013.educa,\n",
    "    \"employment\":data_2013.employ,\n",
    "    \"marital_status\":data_2013.marital,\n",
    "    \"gen_health\":data_2013.genhlth,\n",
    "    \"diabetes\":data_2013.diabetes,\n",
    "    \"age\":data_2013.age\n",
    "}"
   ]
  },
  {
   "cell_type": "code",
   "execution_count": null,
   "metadata": {},
   "outputs": [],
   "source": [
    "_2014={\n",
    "    \"state\":data_2014._state,\n",
    "    \"year\":data_2014.iyear,\n",
    "    \"mental_health\":data_2014.menthlth,\n",
    "    \"sex\":data_2014.sex,\n",
    "    \"education\":data_2014.educa,\n",
    "    \"employment\":data_2014.employ,\n",
    "    \"marital_status\":data_2014.marital,\n",
    "    \"gen_health\":data_2014.genhlth,\n",
    "    \"diabetes\":data_2014.diabetes,\n",
    "    \"age\":data_2014.age\n",
    "}"
   ]
  },
  {
   "cell_type": "code",
   "execution_count": null,
   "metadata": {},
   "outputs": [],
   "source": [
    "_2015={\n",
    "    \"state\":data_2015._state,\n",
    "    \"year\":data_2015.iyear,\n",
    "    \"mental_health\":data_2015.menthlth,\n",
    "    \"sex\":data_2015.sex,\n",
    "    \"education\":data_2015.educa,\n",
    "    \"employment\":data_2015.employ,\n",
    "    \"marital_status\":data_2015.marital,\n",
    "    \"gen_health\":data_2015.genhlth,\n",
    "    \"diabetes\":data_2015.diabetes,\n",
    "    \"age\":data_2015.age\n",
    "}"
   ]
  },
  {
   "cell_type": "code",
   "execution_count": null,
   "metadata": {},
   "outputs": [],
   "source": [
    "_2016={\n",
    "    \"state\":data_2016._state,\n",
    "    \"year\":data_2016.iyear,\n",
    "    \"mental_health\":data_2016.menthlth,\n",
    "    \"sex\":data_2016.sex,\n",
    "    \"education\":data_2016.educa,\n",
    "    \"employment\":data_2016.employ,\n",
    "    \"marital_status\":data_2016.marital,\n",
    "    \"gen_health\":data_2016.genhlth,\n",
    "    \"diabetes\":data_2016.diabetes,\n",
    "    \"age\":data_2016.age\n",
    "}"
   ]
  },
  {
   "cell_type": "code",
   "execution_count": null,
   "metadata": {},
   "outputs": [],
   "source": [
    "_2017={\n",
    "    \"state\":data_2017._state,\n",
    "    \"year\":data_2017.iyear,\n",
    "    \"mental_health\":data_2017.menthlth,\n",
    "    \"sex\":data_2017.sex,\n",
    "    \"education\":data_2017.educa,\n",
    "    \"employment\":data_2017.employ,\n",
    "    \"marital_status\":data_2017.marital,\n",
    "    \"gen_health\":data_2017.genhlth,\n",
    "    \"diabetes\":data_2017.diabetes,\n",
    "    \"age\":data_2017.age\n",
    "}"
   ]
  },
  {
   "cell_type": "code",
   "execution_count": 56,
   "metadata": {},
   "outputs": [
    {
     "data": {
      "text/plain": [
       "['_state',\n",
       " 'iyear',\n",
       " '_age_g',\n",
       " 'educa',\n",
       " '_race',\n",
       " 'employ1',\n",
       " 'marital',\n",
       " 'sex',\n",
       " 'income2',\n",
       " 'genhlth',\n",
       " 'menthlth',\n",
       " 'diabete3',\n",
       " 'checkup1',\n",
       " '_smoker3',\n",
       " '_rfdrhv5',\n",
       " '_totinda',\n",
       " '_bmi5cat']"
      ]
     },
     "execution_count": 56,
     "metadata": {},
     "output_type": "execute_result"
    }
   ],
   "source": [
    "list(data_2017)"
   ]
  },
  {
   "cell_type": "code",
   "execution_count": null,
   "metadata": {},
   "outputs": [],
   "source": []
  }
 ],
 "metadata": {
  "kernelspec": {
   "display_name": "Python 3",
   "language": "python",
   "name": "python3"
  },
  "language_info": {
   "codemirror_mode": {
    "name": "ipython",
    "version": 3
   },
   "file_extension": ".py",
   "mimetype": "text/x-python",
   "name": "python",
   "nbconvert_exporter": "python",
   "pygments_lexer": "ipython3",
   "version": "3.7.1"
  }
 },
 "nbformat": 4,
 "nbformat_minor": 2
}
